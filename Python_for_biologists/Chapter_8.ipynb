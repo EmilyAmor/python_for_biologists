{
 "cells": [
  {
   "cell_type": "code",
   "execution_count": 4,
   "metadata": {
    "collapsed": false
   },
   "outputs": [
    {
     "data": {
      "text/plain": [
       "{'AA': 2, 'AC': 2, 'AT': 2, 'CG': 1, 'GA': 3, 'TG': 2}"
      ]
     },
     "execution_count": 4,
     "metadata": {},
     "output_type": "execute_result"
    }
   ],
   "source": [
    "dna = \"AATGATGAACGAC\"\n",
    "all_dinucleotides = {}\n",
    "dinucleotides = ['AA','AT','AG','AC',\n",
    "                 'TA','TT','TG','TC',\n",
    "                 'GA','GT','GG','GC',\n",
    "                  'CA','CT','CG','CT']\n",
    "for dinucleotide in dinucleotides:\n",
    "    count = dna.count(dinucleotide)\n",
    "    if count > 0:\n",
    "        all_dinucleotides[dinucleotide] = count   \n",
    "\n",
    "all_dinucleotides\n",
    "\n",
    "    "
   ]
  },
  {
   "cell_type": "code",
   "execution_count": 11,
   "metadata": {
    "collapsed": false
   },
   "outputs": [
    {
     "name": "stdout",
     "output_type": "stream",
     "text": [
      "AT\n",
      "AA\n",
      "AC\n",
      "TG\n"
     ]
    }
   ],
   "source": [
    "for nucleotide in all_dinucleotides:\n",
    "    if all_dinucleotides[nucleotide] == 2:\n",
    "        print (nucleotide)"
   ]
  },
  {
   "cell_type": "code",
   "execution_count": 7,
   "metadata": {
    "collapsed": false
   },
   "outputs": [
    {
     "ename": "SyntaxError",
     "evalue": "unexpected EOF while parsing (<ipython-input-7-67e901c41e62>, line 3)",
     "output_type": "error",
     "traceback": [
      "\u001b[1;36m  File \u001b[1;32m\"<ipython-input-7-67e901c41e62>\"\u001b[1;36m, line \u001b[1;32m3\u001b[0m\n\u001b[1;33m    \u001b[0m\n\u001b[1;37m    ^\u001b[0m\n\u001b[1;31mSyntaxError\u001b[0m\u001b[1;31m:\u001b[0m unexpected EOF while parsing\n"
     ]
    }
   ],
   "source": [
    "print (str(all_dinucleotides['TC'])\n",
    "\n",
    "           "
   ]
  },
  {
   "cell_type": "code",
   "execution_count": 4,
   "metadata": {
    "collapsed": false
   },
   "outputs": [
    {
     "name": "stdout",
     "output_type": "stream",
     "text": [
      "AA\n",
      "AT\n",
      "AC\n",
      "TG\n"
     ]
    }
   ],
   "source": [
    "dna = \"AATGATGAACGAC\"\n",
    "dinucleotides = ['AA','AT','AG','AC',\n",
    "                 'TA','TT','TG','TC',\n",
    "                 'GA','GT','GG','GC',\n",
    "                  'CA','CT','CG','CT']\n",
    "all_counts = {}\n",
    "for dinucleotide in dinucleotides:\n",
    "    count = dna.count(dinucleotide)\n",
    "    if count == 2:\n",
    "        print (dinucleotide)"
   ]
  },
  {
   "cell_type": "code",
   "execution_count": 10,
   "metadata": {
    "collapsed": false
   },
   "outputs": [
    {
     "name": "stdout",
     "output_type": "stream",
     "text": [
      "dict_keys(['TG', 'AT', 'AC', 'AA', 'GA', 'CG'])\n"
     ]
    }
   ],
   "source": [
    "dna = \"AATGATGAACGAC\"\n",
    "bases = ['A','T','G','C']\n",
    "all_counts = {}\n",
    "for base1 in bases:\n",
    "    for base2 in bases:\n",
    "        dinucleotide = base1 + base2\n",
    "        count = dna.count(dinucleotide)\n",
    "        if count > 0:\n",
    "            all_counts[dinucleotide] = count\n",
    "print (all_counts.keys())"
   ]
  },
  {
   "cell_type": "code",
   "execution_count": 17,
   "metadata": {
    "collapsed": false
   },
   "outputs": [
    {
     "name": "stdout",
     "output_type": "stream",
     "text": [
      "AA\n",
      "AC\n",
      "AT\n",
      "TG\n"
     ]
    }
   ],
   "source": [
    "for dinucleotide in sorted(all_counts.keys()):\n",
    "    if all_counts.get(dinucleotide) == 2:\n",
    "        print (dinucleotide)"
   ]
  },
  {
   "cell_type": "code",
   "execution_count": 18,
   "metadata": {
    "collapsed": false
   },
   "outputs": [
    {
     "name": "stdout",
     "output_type": "stream",
     "text": [
      "TG 2\n",
      "AT 2\n",
      "AC 2\n",
      "AA 2\n",
      "GA 3\n",
      "CG 1\n"
     ]
    }
   ],
   "source": [
    "for key in all_counts.keys():\n",
    "    value = all_counts.get(key)\n",
    "    print (key, value)"
   ]
  },
  {
   "cell_type": "code",
   "execution_count": 23,
   "metadata": {
    "collapsed": false
   },
   "outputs": [
    {
     "name": "stdout",
     "output_type": "stream",
     "text": [
      "TG\n",
      "AT\n",
      "AC\n",
      "AA\n"
     ]
    }
   ],
   "source": [
    "for dinucleotide, count in all_counts.items():\n",
    "    if count == 2:\n",
    "        print (dinucleotide)"
   ]
  },
  {
   "cell_type": "markdown",
   "metadata": {},
   "source": [
    "## DNA translation:"
   ]
  },
  {
   "cell_type": "code",
   "execution_count": 16,
   "metadata": {
    "collapsed": false
   },
   "outputs": [
    {
     "name": "stdout",
     "output_type": "stream",
     "text": [
      "['ATA']\n",
      "ATAATCATTATGACAACCACGACTACCATA\n",
      "['ATA', 'ATA']\n",
      "ATAATCATTATGACAACCACGACTACCATAATA\n",
      "['ATA', 'ATA', 'ATA']\n",
      "ATAATCATTATGACAACCACGACTACCATAATAATA\n",
      "['ATA', 'ATA', 'ATA', 'ATA']\n",
      "ATAATCATTATGACAACCACGACTACCATAATAATAATA\n",
      "['ATA', 'ATA', 'ATA', 'ATA', 'ATA']\n",
      "ATAATCATTATGACAACCACGACTACCATAATAATAATAATA\n",
      "['ATA', 'ATA', 'ATA', 'ATA', 'ATA', 'ATA']\n",
      "ATAATCATTATGACAACCACGACTACCATAATAATAATAATAATA\n",
      "['ATA', 'ATA', 'ATA', 'ATA', 'ATA', 'ATA', 'ATA']\n",
      "ATAATCATTATGACAACCACGACTACCATAATAATAATAATAATAATA\n",
      "['ATA', 'ATA', 'ATA', 'ATA', 'ATA', 'ATA', 'ATA', 'ATA']\n",
      "ATAATCATTATGACAACCACGACTACCATAATAATAATAATAATAATAATA\n",
      "['ATA', 'ATA', 'ATA', 'ATA', 'ATA', 'ATA', 'ATA', 'ATA', 'ATA']\n",
      "ATAATCATTATGACAACCACGACTACCATAATAATAATAATAATAATAATAATA\n",
      "['ATA', 'ATA', 'ATA', 'ATA', 'ATA', 'ATA', 'ATA', 'ATA', 'ATA', 'ATA']\n",
      "ATAATCATTATGACAACCACGACTACCATAATAATAATAATAATAATAATAATAATA\n",
      "['ATA', 'ATA', 'ATA', 'ATA', 'ATA', 'ATA', 'ATA', 'ATA', 'ATA', 'ATA', 'ATA']\n",
      "ATAATCATTATGACAACCACGACTACCATAATAATAATAATAATAATAATAATAATAATA\n",
      "['ATA', 'ATA', 'ATA', 'ATA', 'ATA', 'ATA', 'ATA', 'ATA', 'ATA', 'ATA', 'ATA', 'ATA']\n",
      "ATAATCATTATGACAACCACGACTACCATAATAATAATAATAATAATAATAATAATAATAATA\n",
      "['ATA', 'ATA', 'ATA', 'ATA', 'ATA', 'ATA', 'ATA', 'ATA', 'ATA', 'ATA', 'ATA', 'ATA', 'ATA']\n",
      "ATAATCATTATGACAACCACGACTACCATAATAATAATAATAATAATAATAATAATAATAATAATA\n",
      "['ATA', 'ATA', 'ATA', 'ATA', 'ATA', 'ATA', 'ATA', 'ATA', 'ATA', 'ATA', 'ATA', 'ATA', 'ATA', 'ATA']\n",
      "ATAATCATTATGACAACCACGACTACCATAATAATAATAATAATAATAATAATAATAATAATAATAATA\n",
      "['ATA', 'ATA', 'ATA', 'ATA', 'ATA', 'ATA', 'ATA', 'ATA', 'ATA', 'ATA', 'ATA', 'ATA', 'ATA', 'ATA', 'ATA']\n",
      "ATAATCATTATGACAACCACGACTACCATAATAATAATAATAATAATAATAATAATAATAATAATAATAATA\n",
      "['ATA', 'ATA', 'ATA', 'ATA', 'ATA', 'ATA', 'ATA', 'ATA', 'ATA', 'ATA', 'ATA', 'ATA', 'ATA', 'ATA', 'ATA', 'ATA']\n",
      "ATAATCATTATGACAACCACGACTACCATAATAATAATAATAATAATAATAATAATAATAATAATAATAATAATA\n",
      "['ATA', 'ATA', 'ATA', 'ATA', 'ATA', 'ATA', 'ATA', 'ATA', 'ATA', 'ATA', 'ATA', 'ATA', 'ATA', 'ATA', 'ATA', 'ATA', 'ATA']\n",
      "ATAATCATTATGACAACCACGACTACCATAATAATAATAATAATAATAATAATAATAATAATAATAATAATAATAATA\n",
      "['ATA', 'ATA', 'ATA', 'ATA', 'ATA', 'ATA', 'ATA', 'ATA', 'ATA', 'ATA', 'ATA', 'ATA', 'ATA', 'ATA', 'ATA', 'ATA', 'ATA', 'ATA']\n",
      "ATAATCATTATGACAACCACGACTACCATAATAATAATAATAATAATAATAATAATAATAATAATAATAATAATAATAATA\n",
      "['ATA', 'ATA', 'ATA', 'ATA', 'ATA', 'ATA', 'ATA', 'ATA', 'ATA', 'ATA', 'ATA', 'ATA', 'ATA', 'ATA', 'ATA', 'ATA', 'ATA', 'ATA', 'ATA']\n",
      "ATAATCATTATGACAACCACGACTACCATAATAATAATAATAATAATAATAATAATAATAATAATAATAATAATAATAATAATA\n",
      "['ATA', 'ATA', 'ATA', 'ATA', 'ATA', 'ATA', 'ATA', 'ATA', 'ATA', 'ATA', 'ATA', 'ATA', 'ATA', 'ATA', 'ATA', 'ATA', 'ATA', 'ATA', 'ATA', 'ATA']\n",
      "ATAATCATTATGACAACCACGACTACCATAATAATAATAATAATAATAATAATAATAATAATAATAATAATAATAATAATAATAATA\n",
      "['ATA', 'ATA', 'ATA', 'ATA', 'ATA', 'ATA', 'ATA', 'ATA', 'ATA', 'ATA', 'ATA', 'ATA', 'ATA', 'ATA', 'ATA', 'ATA', 'ATA', 'ATA', 'ATA', 'ATA', 'ATA']\n",
      "ATAATCATTATGACAACCACGACTACCATAATAATAATAATAATAATAATAATAATAATAATAATAATAATAATAATAATAATAATAATA\n",
      "['ATA', 'ATA', 'ATA', 'ATA', 'ATA', 'ATA', 'ATA', 'ATA', 'ATA', 'ATA', 'ATA', 'ATA', 'ATA', 'ATA', 'ATA', 'ATA', 'ATA', 'ATA', 'ATA', 'ATA', 'ATA', 'ATA']\n",
      "ATAATCATTATGACAACCACGACTACCATAATAATAATAATAATAATAATAATAATAATAATAATAATAATAATAATAATAATAATAATAATA\n",
      "['ATA', 'ATA', 'ATA', 'ATA', 'ATA', 'ATA', 'ATA', 'ATA', 'ATA', 'ATA', 'ATA', 'ATA', 'ATA', 'ATA', 'ATA', 'ATA', 'ATA', 'ATA', 'ATA', 'ATA', 'ATA', 'ATA', 'ATA']\n",
      "ATAATCATTATGACAACCACGACTACCATAATAATAATAATAATAATAATAATAATAATAATAATAATAATAATAATAATAATAATAATAATAATA\n",
      "['ATA', 'ATA', 'ATA', 'ATA', 'ATA', 'ATA', 'ATA', 'ATA', 'ATA', 'ATA', 'ATA', 'ATA', 'ATA', 'ATA', 'ATA', 'ATA', 'ATA', 'ATA', 'ATA', 'ATA', 'ATA', 'ATA', 'ATA', 'ATA']\n",
      "ATAATCATTATGACAACCACGACTACCATAATAATAATAATAATAATAATAATAATAATAATAATAATAATAATAATAATAATAATAATAATAATAATA\n",
      "['ATA', 'ATA', 'ATA', 'ATA', 'ATA', 'ATA', 'ATA', 'ATA', 'ATA', 'ATA', 'ATA', 'ATA', 'ATA', 'ATA', 'ATA', 'ATA', 'ATA', 'ATA', 'ATA', 'ATA', 'ATA', 'ATA', 'ATA', 'ATA', 'ATA']\n",
      "ATAATCATTATGACAACCACGACTACCATAATAATAATAATAATAATAATAATAATAATAATAATAATAATAATAATAATAATAATAATAATAATAATAATA\n",
      "['ATA', 'ATA', 'ATA', 'ATA', 'ATA', 'ATA', 'ATA', 'ATA', 'ATA', 'ATA', 'ATA', 'ATA', 'ATA', 'ATA', 'ATA', 'ATA', 'ATA', 'ATA', 'ATA', 'ATA', 'ATA', 'ATA', 'ATA', 'ATA', 'ATA', 'ATA']\n",
      "ATAATCATTATGACAACCACGACTACCATAATAATAATAATAATAATAATAATAATAATAATAATAATAATAATAATAATAATAATAATAATAATAATAATAATA\n",
      "['ATA', 'ATA', 'ATA', 'ATA', 'ATA', 'ATA', 'ATA', 'ATA', 'ATA', 'ATA', 'ATA', 'ATA', 'ATA', 'ATA', 'ATA', 'ATA', 'ATA', 'ATA', 'ATA', 'ATA', 'ATA', 'ATA', 'ATA', 'ATA', 'ATA', 'ATA', 'ATA']\n",
      "ATAATCATTATGACAACCACGACTACCATAATAATAATAATAATAATAATAATAATAATAATAATAATAATAATAATAATAATAATAATAATAATAATAATAATAATA\n"
     ]
    }
   ],
   "source": [
    "# import dictionary\n",
    "gencode = open('genetic_code.txt').read().rstrip(\"\\n\")\n",
    "dna_sequence = \"ATAATCATTATGACAACCACGACTACC\"     #IIIMTTTTN\n",
    "\n",
    "# split sequence into codons\n",
    "\n",
    "codons = []\n",
    "for codon in dna_sequence:\n",
    "    if len(dna_sequence) > 0 :\n",
    "        codons.append(dna_sequence[0:3])\n",
    "        dna_sequence += dna_sequence[:]\n",
    "        print (codons) \n",
    "        print (dna_sequence)\n",
    "\n",
    "    "
   ]
  },
  {
   "cell_type": "code",
   "execution_count": null,
   "metadata": {
    "collapsed": true
   },
   "outputs": [],
   "source": [
    "# look up amino acid for each codon\n",
    "amino_acids = []\n",
    "for key in gencode.keys():\n",
    "    amino_acids.append(codons.get(key))\n",
    "\n",
    "amino_acids"
   ]
  },
  {
   "cell_type": "code",
   "execution_count": null,
   "metadata": {
    "collapsed": true
   },
   "outputs": [],
   "source": []
  }
 ],
 "metadata": {
  "anaconda-cloud": {},
  "kernelspec": {
   "display_name": "Python [Root]",
   "language": "python",
   "name": "Python [Root]"
  },
  "language_info": {
   "codemirror_mode": {
    "name": "ipython",
    "version": 3
   },
   "file_extension": ".py",
   "mimetype": "text/x-python",
   "name": "python",
   "nbconvert_exporter": "python",
   "pygments_lexer": "ipython3",
   "version": "3.5.2"
  }
 },
 "nbformat": 4,
 "nbformat_minor": 0
}
