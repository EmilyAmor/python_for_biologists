{
 "cells": [
  {
   "cell_type": "markdown",
   "metadata": {},
   "source": [
    "## Processing DNA in a file:"
   ]
  },
  {
   "cell_type": "code",
   "execution_count": 42,
   "metadata": {
    "collapsed": false
   },
   "outputs": [
    {
     "name": "stdout",
     "output_type": "stream",
     "text": [
      "43\n",
      "38\n",
      "49\n",
      "34\n",
      "48\n"
     ]
    }
   ],
   "source": [
    "# open object file\n",
    "file = open(\"input.txt\")\n",
    "\n",
    "# get contents of the file\n",
    "lines = file.readlines()\n",
    "\n",
    "# make new file to hold the output\n",
    "output= open(\"clean_output.txt\", 'w') \n",
    "\n",
    "# remove adapters\n",
    "removed_adapters = []\n",
    "\n",
    "for line in lines:\n",
    "    removed_adapters.append(line[14:])\n",
    "    \n",
    "# write sequences to new file\n",
    "for line in removed_adapters:\n",
    "    output.write(str(line))\n",
    "\n",
    "# close file\n",
    "output.close()\n",
    "    \n",
    "    \n",
    "# print length of each trimmed sequence to the screen\n",
    "for seq in removed_adapters:\n",
    "             print (len(seq))"
   ]
  },
  {
   "cell_type": "markdown",
   "metadata": {},
   "source": [
    "## Multiple exons from genomic DNA:"
   ]
  },
  {
   "cell_type": "code",
   "execution_count": 23,
   "metadata": {
    "collapsed": false
   },
   "outputs": [],
   "source": [
    "# read the exon filee\n",
    "file = open('exons.txt')\n",
    "exons = file.read()\n",
    "split_string = exons.split('\\n')\n",
    "\n",
    "# split exons at \",\"\n",
    "split_exons = []\n",
    "for i in split_string:\n",
    "    x = i.split(',')\n",
    "    split_exons.append(x)\n",
    "\n",
    "new_list = split_exons[:-1]\n",
    "\n",
    "# read in genomic sequence\n",
    "dna_file = open('genomic_dna.txt')\n",
    "genomic = dna_file.read()\n",
    "\n",
    "# extract coding sequences using exons numbers as index\n",
    "coding_sequences = \"\"\n",
    "for exon in new_list:\n",
    "    start = int(exon[0])\n",
    "    end = int(exon[1])\n",
    "    coding_sequences += genomic[start:end]\n",
    "\n",
    "# write out to file\n",
    "output = open('coding_sequence.txt', 'w')\n",
    "output.write(coding_sequences)\n",
    "output.close()\n"
   ]
  },
  {
   "cell_type": "code",
   "execution_count": 21,
   "metadata": {
    "collapsed": false
   },
   "outputs": [
    {
     "data": {
      "text/plain": [
       "'/home/emily/Documents/code/Python_for_biologists'"
      ]
     },
     "execution_count": 21,
     "metadata": {},
     "output_type": "execute_result"
    }
   ],
   "source": [
    "pwd"
   ]
  },
  {
   "cell_type": "code",
   "execution_count": null,
   "metadata": {
    "collapsed": true
   },
   "outputs": [],
   "source": []
  }
 ],
 "metadata": {
  "anaconda-cloud": {},
  "kernelspec": {
   "display_name": "Python [Root]",
   "language": "python",
   "name": "Python [Root]"
  },
  "language_info": {
   "codemirror_mode": {
    "name": "ipython",
    "version": 3
   },
   "file_extension": ".py",
   "mimetype": "text/x-python",
   "name": "python",
   "nbconvert_exporter": "python",
   "pygments_lexer": "ipython3",
   "version": "3.5.2"
  }
 },
 "nbformat": 4,
 "nbformat_minor": 0
}
