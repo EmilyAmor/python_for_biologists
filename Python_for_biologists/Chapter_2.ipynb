{
 "cells": [
  {
   "cell_type": "markdown",
   "metadata": {
    "collapsed": true
   },
   "source": [
    "## Calculating AT content:"
   ]
  },
  {
   "cell_type": "code",
   "execution_count": 32,
   "metadata": {
    "collapsed": false
   },
   "outputs": [
    {
     "name": "stdout",
     "output_type": "stream",
     "text": [
      "The AT content is: 0.6851851851851852\n"
     ]
    }
   ],
   "source": [
    "# input sequence\n",
    "sequence_input = 'ACTGATCGATTACGTATAGTATTTGCTATCATACATATATATCGATGCGTTCAT'\n",
    "\n",
    "# make all characters uppercase\n",
    "dna = sequence_input.upper()\n",
    "\n",
    "# length of sequence\n",
    "dna_length = len(dna)\n",
    "\n",
    "# number of 'A's'\n",
    "a_count = dna.count('A')\n",
    "\n",
    "# number of 'T's'\n",
    "t_count = dna.count('T')\n",
    "\n",
    "# calculate AT content as a percentage\n",
    "at_percent = (a_count+t_count)/dna_length \n",
    "\n",
    "# print answer\n",
    "print('The AT content is:', at_percent)"
   ]
  },
  {
   "cell_type": "markdown",
   "metadata": {},
   "source": [
    "## Complementing DNA:"
   ]
  },
  {
   "cell_type": "code",
   "execution_count": 11,
   "metadata": {
    "collapsed": false
   },
   "outputs": [
    {
     "name": "stdout",
     "output_type": "stream",
     "text": [
      "TGACTAGCTAATGCATATCATAAACGATAGTATGTATATATAGCTACGCAAGTA\n"
     ]
    }
   ],
   "source": [
    "# input sequence\n",
    "sequence_input = 'ACTGATCGATTACGTATAGTATTTGCTATCATACATATATATCGATGCGTTCAT'\n",
    "\n",
    "# make all characters uniform\n",
    "dna = sequence_input.upper()\n",
    "\n",
    "# replace A with t\n",
    "dna1 = dna.replace('A', 't')\n",
    "\n",
    "# replace T with A\n",
    "dna2 = dna1.replace('T', 'a')\n",
    "\n",
    "# replace G with C\n",
    "dna3 = dna2.replace('G', 'c')\n",
    "\n",
    "# replace C with G\n",
    "dna4 = dna3.replace('C', 'g')\n",
    "\n",
    "print(dna4.upper())"
   ]
  },
  {
   "cell_type": "markdown",
   "metadata": {},
   "source": [
    "## Restriction fragment lengths:\n"
   ]
  },
  {
   "cell_type": "code",
   "execution_count": 40,
   "metadata": {
    "collapsed": false
   },
   "outputs": [
    {
     "name": "stdout",
     "output_type": "stream",
     "text": [
      "fragment1: 22 bp\n",
      "fragment2: 33 bp\n"
     ]
    }
   ],
   "source": [
    "# input sequence\n",
    "sequence_input = 'ACTGATCGATTACGTATAGTAGAATTCTATCATACATATATATCGATGCGTTCAT'\n",
    "\n",
    "# make all characters uniform\n",
    "dna = sequence_input.upper()\n",
    "\n",
    "# find EcoRI recognition site\n",
    "recognition_site = dna.find('GAATTC')\n",
    "\n",
    "\n",
    "# extract first fragment lenght\n",
    "first_fragment_size = len(dna[0:recognition_site+1])\n",
    "\n",
    "\n",
    "# extact second fragment length\n",
    "second_fragment_size = len(dna[recognition_site+1:])\n",
    "\n",
    "# print answer\n",
    "\n",
    "print ('fragment1:', first_fragment_size, 'bp')\n",
    "print ('fragment2:', second_fragment_size, 'bp')"
   ]
  },
  {
   "cell_type": "markdown",
   "metadata": {},
   "source": [
    "## Splicing out introns:\n"
   ]
  },
  {
   "cell_type": "code",
   "execution_count": 30,
   "metadata": {
    "collapsed": false
   },
   "outputs": [
    {
     "name": "stdout",
     "output_type": "stream",
     "text": [
      "Intron: GATCGATCGATCGATCGATCATGCTA\n",
      "percent being coded: 21.138211382113823\n",
      "total sequence: atcgatcgatcgatcgactgactagtcatagctatgcatgtagctactcgatcgatcgatcgatcGATCGATCGATCGATCGATCATGCTAtcatcgatcgatatcgatgcatcgactactat\n"
     ]
    }
   ],
   "source": [
    "# input sequence\n",
    "sequence_input = 'ATCGATCGATCGATCGACTGACTAGTCATAGCTATGCATGTAGCTACTCGATCGATCGATCGATCGATCGATCGATCGATCGATCATGCTATCATCGATCGATATCGATGCATCGACTACTAT'\n",
    "\n",
    "# make all characters uniform\n",
    "dna = sequence_input.upper()\n",
    "\n",
    "# intron\n",
    "intron = dna[65:91]\n",
    "\n",
    "# print intron\n",
    "print ('Intron:', intron)\n",
    "\n",
    "# part 2:\n",
    "\n",
    "# length dna\n",
    "dna_length = len(dna)\n",
    "\n",
    "#length of intron\n",
    "intron_length = len(intron)\n",
    "\n",
    "# percentage of dna being coded\n",
    "\n",
    "percent_coding = intron_length/dna_length * 100\n",
    "\n",
    "# print answer\n",
    "print ('percent being coded:', percent_coding)\n",
    "\n",
    "# part three\n",
    "\n",
    "# exon 1 in lower case\n",
    "exon1 = dna[0:65].lower()\n",
    "\n",
    "# intron in upper case\n",
    "intron_upper = intron.upper()\n",
    "\n",
    "# exon 2 in lower case\n",
    "exon2 = dna[91:].lower()\n",
    "\n",
    "# total dna sequence showing introns (uppercase) and exons (lower case)\n",
    "print ('total sequence:' , exon1+intron_upper+exon2)"
   ]
  },
  {
   "cell_type": "code",
   "execution_count": null,
   "metadata": {
    "collapsed": true
   },
   "outputs": [],
   "source": []
  }
 ],
 "metadata": {
  "anaconda-cloud": {},
  "kernelspec": {
   "display_name": "Python [Root]",
   "language": "python",
   "name": "Python [Root]"
  },
  "language_info": {
   "codemirror_mode": {
    "name": "ipython",
    "version": 3
   },
   "file_extension": ".py",
   "mimetype": "text/x-python",
   "name": "python",
   "nbconvert_exporter": "python",
   "pygments_lexer": "ipython3",
   "version": "3.5.2"
  }
 },
 "nbformat": 4,
 "nbformat_minor": 0
}
