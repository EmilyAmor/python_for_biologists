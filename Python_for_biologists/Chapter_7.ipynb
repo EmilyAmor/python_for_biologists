{
 "cells": [
  {
   "cell_type": "code",
   "execution_count": 1,
   "metadata": {
    "collapsed": true
   },
   "outputs": [],
   "source": []
  },
  {
   "cell_type": "code",
   "execution_count": 55,
   "metadata": {
    "collapsed": false
   },
   "outputs": [
    {
     "name": "stdout",
     "output_type": "stream",
     "text": [
      "contains 5:\n",
      "\txkn59438\n",
      "\thedle3455\n",
      "\txjhd53e\n",
      "\t45da\n",
      "contains letter d or e:\n",
      "\t yhdck2\n",
      "\t eihd39d9\n",
      "\t chdsye847\n",
      "\t hedle3455\n",
      "\t xjhd53e\n",
      "\t 45da\n",
      "\t de37dp\n",
      "contains d + e ordered\n",
      "\t chdsye847\n",
      "\t hedle3455\n",
      "\t xjhd53e\n",
      "\t de37dp\n",
      "contains d + e with single character between them:\n",
      "\t hedle3455\n",
      "contains both the letters d and e in any order:\n",
      "\t eihd39d9\n",
      "\t chdsye847\n",
      "\t hedle3455\n",
      "\t xjhd53e\n",
      "\t de37dp\n",
      "Starts with x or y:\n",
      "\t xkn59438\n",
      "\t yhdck2\n",
      "\t xjhd53e\n",
      "Starts with x or y and end with e:\n",
      "\t xjhd53e\n",
      "Contain three or more digits in a row:\n",
      "\t xkn59438\n",
      "\t chdsye847\n",
      "\t hedle3455\n",
      "Contain three or more digits in a row:\n",
      "\t 45da\n",
      "\t de37dp\n"
     ]
    }
   ],
   "source": [
    "import re # regular expressions module\n",
    "\n",
    "accessions = [\"xkn59438\", \"yhdck2\", \"eihd39d9\", \"chdsye847\", \"hedle3455\", \"xjhd53e\", \"45da\", \"de37dp\"]\n",
    "\n",
    "# contain the number 5\n",
    "print ('contains 5:')\n",
    "for acc in accessions:\n",
    "    if re.search(r\"5\", acc):\n",
    "        print ('\\t' + acc)\n",
    "        \n",
    "#contains letter d or e\n",
    "print (\"contains letter d or e:\")\n",
    "for acc in accessions:\n",
    "    if re.search(r'd|e', acc):\n",
    "        print ('\\t', acc)\n",
    "\n",
    "# contains d and e in that order\n",
    "print (\"contains d + e ordered\")\n",
    "for acc in accessions:\n",
    "    if re.search(r'd.*e', acc):\n",
    "        print ('\\t', acc)\n",
    "\n",
    "# contains d and e (ordered) with single letter between them\n",
    "print (\"contains d + e with single character between them:\")\n",
    "for acc in accessions:\n",
    "    if re.search(r'd.e', acc):\n",
    "        print ('\\t', acc)\n",
    "        \n",
    "# contains both the letters d and e in any order\n",
    "print (\"contains both the letters d and e in any order:\")\n",
    "for acc in accessions:\n",
    "    if re.search(r'd', acc) and re.search(r'e', acc):\n",
    "        print ('\\t', acc)\n",
    "\n",
    "# Starts with x or y\n",
    "print (\"Starts with x or y:\")\n",
    "for acc in accessions:\n",
    "    if re.search(r'^(x|y)', acc):\n",
    "        print ('\\t', acc)\n",
    "        \n",
    "# Starts with x or y abd end with e\n",
    "print (\"Starts with x or y and end with e:\")\n",
    "for acc in accessions:\n",
    "    if re.search(r'^(x|y).*e$', acc):\n",
    "        print ('\\t', acc)\n",
    "\n",
    "# Contain three or more digits in a row\n",
    "print (\"Contain three or more digits in a row:\")\n",
    "for acc in accessions:\n",
    "    if re.search(r'\\d{3,}', acc):\n",
    "        print ('\\t', acc)\n",
    "\n",
    "# end with d followed by either a,r or p\n",
    "print (\"Contain three or more digits in a row:\")\n",
    "for acc in accessions:\n",
    "    if re.search(r'd(a|r|p)$', acc):\n",
    "        print ('\\t', acc)\n"
   ]
  },
  {
   "cell_type": "markdown",
   "metadata": {},
   "source": [
    "answer:\n"
   ]
  },
  {
   "cell_type": "code",
   "execution_count": 56,
   "metadata": {
    "collapsed": false
   },
   "outputs": [
    {
     "name": "stdout",
     "output_type": "stream",
     "text": [
      "contains 5:\n",
      "\txkn59438\n",
      "\thedle3455\n",
      "\txjhd53e\n",
      "\t45da\n",
      "contains d or e:\n",
      "\tyhdck2\n",
      "\teihd39d9\n",
      "\tchdsye847\n",
      "\thedle3455\n",
      "\txjhd53e\n",
      "\t45da\n",
      "\tde37dp\n",
      "contains d and e in that order:\n",
      "\tchdsye847\n",
      "\thedle3455\n",
      "\txjhd53e\n",
      "\tde37dp\n",
      "contains d and e separated by a single letter:\n",
      "\thedle3455\n",
      "contains d and e in any order:\n",
      "\teihd39d9\n",
      "\tchdsye847\n",
      "\thedle3455\n",
      "\txjhd53e\n",
      "\tde37dp\n",
      "starts with either x or y:\n",
      "\txkn59438\n",
      "\tyhdck2\n",
      "\txjhd53e\n",
      "starts with either x or y and ends with e:\n",
      "\txjhd53e\n",
      "contains three or more numbers in a row:\n",
      "\txkn59438\n",
      "\tchdsye847\n",
      "\thedle3455\n",
      "ends with d followed by either a, r or p:\n",
      "\t45da\n",
      "\tde37dp\n"
     ]
    }
   ],
   "source": [
    "import re\n",
    "\n",
    "accs = [\"xkn59438\", \"yhdck2\", \"eihd39d9\", \"chdsye847\", \"hedle3455\", \"xjhd53e\", \"45da\", \"de37dp\"]\n",
    "\n",
    "print(\"contains 5:\")\n",
    "for acc in accs: \n",
    "    if re.search(r\"5\", acc): \n",
    "        print(\"\\t\" + acc) \n",
    "\n",
    "print(\"contains d or e:\")\n",
    "for acc in accs: \n",
    "    if re.search(r\"(d|e)\", acc): \n",
    "        print(\"\\t\" + acc) \n",
    "\n",
    "print(\"contains d and e in that order:\")\n",
    "for acc in accs: \n",
    "    if re.search(r\"d.*e\", acc): \n",
    "        print(\"\\t\" + acc)\n",
    "\n",
    "print(\"contains d and e separated by a single letter:\")\n",
    "for acc in accs: \n",
    "    if re.search(r\"(d.e)\", acc): \n",
    "        print(\"\\t\" + acc) \n",
    "\n",
    "print(\"contains d and e in any order:\")\n",
    "for acc in accs: \n",
    "    if re.search(r\"d.*e\", acc) or re.search(r\"e.*d\", acc): \n",
    "        print(\"\\t\" + acc) \n",
    "\n",
    "print(\"starts with either x or y:\")\n",
    "for acc in accs: \n",
    "    if re.search(r\"^(x|y)\", acc): \n",
    "        print(\"\\t\" + acc) \n",
    "\n",
    "print(\"starts with either x or y and ends with e:\")\n",
    "for acc in accs: \n",
    "    if re.search(r\"^(x|y).*e$\", acc): \n",
    "        print(\"\\t\" + acc) \n",
    "\n",
    "print(\"contains three or more numbers in a row:\")\n",
    "for acc in accs: \n",
    "    if re.search(r\"\\d{3,}\", acc): \n",
    "        print(\"\\t\" + acc) \n",
    "\n",
    "print(\"ends with d followed by either a, r or p:\")\n",
    "for acc in accs: \n",
    "    if re.search(r\"d[arp]$\", acc): \n",
    "        print(\"\\t\" + acc) "
   ]
  },
  {
   "cell_type": "markdown",
   "metadata": {},
   "source": [
    "## Double digest:"
   ]
  },
  {
   "cell_type": "code",
   "execution_count": 70,
   "metadata": {
    "collapsed": false
   },
   "outputs": [
    {
     "name": "stdout",
     "output_type": "stream",
     "text": [
      "AbcI cuts at:\n",
      "1143\n",
      "1628\n"
     ]
    }
   ],
   "source": [
    "dna = open('dna.txt').read().rstrip('\\n')\n",
    "\n",
    "print ('AbcI cuts at:')\n",
    "for match in re.finditer(r\"A[ATGC]TAAT\", dna):\n",
    "    print (match.start()+3) # enzyme actually cuts three bases on\n"
   ]
  },
  {
   "cell_type": "code",
   "execution_count": 75,
   "metadata": {
    "collapsed": false
   },
   "outputs": [
    {
     "name": "stdout",
     "output_type": "stream",
     "text": [
      "[0, 1143, 1628, 2012]\n"
     ]
    }
   ],
   "source": [
    "dna = open('dna.txt').read().rstrip('\\n')\n",
    "\n",
    "all_cuts = [0]\n",
    "for match in re.finditer(r\"A[ATGC]TAAT\", dna):\n",
    "    all_cuts.append(match.start() + 3)\n",
    "all_cuts.append(len(dna))\n",
    "print (all_cuts)"
   ]
  },
  {
   "cell_type": "code",
   "execution_count": 78,
   "metadata": {
    "collapsed": false
   },
   "outputs": [
    {
     "name": "stdout",
     "output_type": "stream",
     "text": [
      "one fragment size is: 1143\n",
      "one fragment size is: 485\n",
      "one fragment size is: 384\n"
     ]
    }
   ],
   "source": [
    "for i in range(1, len(all_cuts)):\n",
    "    this_cut_position = all_cuts[i]\n",
    "    previous_cut_position = all_cuts[i-1]\n",
    "    fragment_size = this_cut_position - previous_cut_position\n",
    "    print ('one fragment size is:', fragment_size)"
   ]
  },
  {
   "cell_type": "code",
   "execution_count": 101,
   "metadata": {
    "collapsed": false
   },
   "outputs": [
    {
     "name": "stdout",
     "output_type": "stream",
     "text": [
      "one fragment size is: 488\n",
      "one fragment size is: 655\n",
      "one fragment size is: 434\n",
      "one fragment size is: 51\n",
      "one fragment size is: 384\n"
     ]
    }
   ],
   "source": [
    "dna = open('dna.txt').read().rstrip('\\n')\n",
    "all_cuts = [0]\n",
    "\n",
    "# add cut positions for AbcI\n",
    "for match in re.finditer(r\"A[ATGC]TAAT\", dna):\n",
    "    all_cuts.append(match.start() + 3)\n",
    "\n",
    "# add cut postions for AbcII\n",
    "for match in re.finditer(r\"GC[A|G][A|T]TG\", dna):\n",
    "    all_cuts.append(match.start()+4)\n",
    "\n",
    "all_cuts.append(len(dna))\n",
    "sorted_list = sorted(all_cuts)\n",
    "    \n",
    "for i in range(1, len(sorted_list)):\n",
    "    this_cut_position = sorted_list[i]\n",
    "    previous_cut_position = sorted_list[i-1]\n",
    "    fragment_size = this_cut_position - previous_cut_position\n",
    "    print ('one fragment size is:', fragment_size)"
   ]
  },
  {
   "cell_type": "code",
   "execution_count": null,
   "metadata": {
    "collapsed": true
   },
   "outputs": [],
   "source": []
  }
 ],
 "metadata": {
  "kernelspec": {
   "display_name": "Python [Root]",
   "language": "python",
   "name": "Python [Root]"
  },
  "language_info": {
   "codemirror_mode": {
    "name": "ipython",
    "version": 3
   },
   "file_extension": ".py",
   "mimetype": "text/x-python",
   "name": "python",
   "nbconvert_exporter": "python",
   "pygments_lexer": "ipython3",
   "version": "3.5.2"
  }
 },
 "nbformat": 4,
 "nbformat_minor": 0
}
