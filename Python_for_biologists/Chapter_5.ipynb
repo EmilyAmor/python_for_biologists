{
 "cells": [
  {
   "cell_type": "markdown",
   "metadata": {
    "collapsed": true
   },
   "source": [
    "## Percentage of amino acid residues, I:"
   ]
  },
  {
   "cell_type": "code",
   "execution_count": 40,
   "metadata": {
    "collapsed": false
   },
   "outputs": [],
   "source": [
    "# define function\n",
    "def amino_acid_percent(protein, amino_acid):\n",
    "    # calculate how long is protein\n",
    "    length = len(protein)\n",
    "    # change input sequences to uppercase\n",
    "    protein = protein.upper()\n",
    "    amino_acid = amino_acid.upper()\n",
    "    # calculate the percentage of the aa\n",
    "    amino_acid_count = protein.count(amino_acid)\n",
    "    amino_acid_percent = (amino_acid_count/length) * 100\n",
    "    return round(amino_acid_percent,0)\n",
    "    \n",
    "# test suite\n",
    "assert amino_acid_percent(\"MSRSLLLRFLLFLLLLPPLP\", \"M\") == 5\n",
    "assert amino_acid_percent(\"MSRSLLLRFLLFLLLLPPLP\", \"r\") == 10\n",
    "assert amino_acid_percent(\"msrslllrfllfllllpplp\", \"L\") == 50\n",
    "assert amino_acid_percent(\"MSRSLLLRFLLFLLLLPPLP\", \"Y\") == 0"
   ]
  },
  {
   "cell_type": "markdown",
   "metadata": {},
   "source": [
    "## Percentage of amino acid residues, II:\n"
   ]
  },
  {
   "cell_type": "code",
   "execution_count": 36,
   "metadata": {
    "collapsed": false
   },
   "outputs": [
    {
     "name": "stdout",
     "output_type": "stream",
     "text": [
      "length of protein 4\n",
      "['M', 'R', 'S', 'A']\n",
      "0.0\n"
     ]
    }
   ],
   "source": [
    "i = amino_acid_percent('MRSA', ['M'])\n",
    "print (i)"
   ]
  },
  {
   "cell_type": "code",
   "execution_count": 6,
   "metadata": {
    "collapsed": false
   },
   "outputs": [
    {
     "name": "stdout",
     "output_type": "stream",
     "text": [
      "counting number of: F\n",
      "running total is: 2\n",
      "counting number of: S\n",
      "running total is: 4\n",
      "counting number of: L\n",
      "running total is: 14\n",
      "70.0\n"
     ]
    }
   ],
   "source": [
    "protein = \"MSRSLLLRFLLFLLLLPPLP\"\n",
    "aa_list = ['F', 'S', 'L']\n",
    "\n",
    "total = 0\n",
    "for aa in aa_list:\n",
    "    print ('counting number of:', aa)\n",
    "    \n",
    "    # make all characters uppercase\n",
    "    aa = aa.upper()\n",
    "    aa_count = protein.count(aa)\n",
    "    total += aa_count\n",
    "    print ('running total is:', total)\n",
    "\n",
    "# Calculate percent amino acids in sequence\n",
    "percentage = (total/len(protein))*100\n",
    "print (percentage)\n"
   ]
  },
  {
   "cell_type": "code",
   "execution_count": 11,
   "metadata": {
    "collapsed": false
   },
   "outputs": [],
   "source": [
    "# define the function\n",
    "def amino_acid_percent(protein, aa_list = ['A','I','L','M','F','W','Y','V']):\n",
    "    \n",
    "    protein = protein.upper()\n",
    "    protein_length = len(protein)\n",
    "    total = 0\n",
    "    for aa in aa_list:\n",
    "        # make aa uppercase\n",
    "        aa = aa.upper()\n",
    "        # count aa\n",
    "        aa_count = protein.count(aa)\n",
    "        total += aa_count\n",
    "    # Calculate percent amino acids in sequence\n",
    "    percentage = total*100/protein_length\n",
    "    return percentage\n",
    "\n",
    "# test suite\n",
    "assert amino_acid_percent(\"MSRSLLLRFLLFLLLLPPLP\", [\"M\"]) == 5\n",
    "assert amino_acid_percent(\"MSRSLLLRFLLFLLLLPPLP\", ['M', 'L']) == 55\n",
    "assert amino_acid_percent(\"MSRSLLLRFLLFLLLLPPLP\", ['F', 'S', 'L']) == 70\n",
    "assert amino_acid_percent(\"MSRSLLLRFLLFLLLLPPLP\") == 65    "
   ]
  },
  {
   "cell_type": "code",
   "execution_count": null,
   "metadata": {
    "collapsed": true
   },
   "outputs": [],
   "source": []
  }
 ],
 "metadata": {
  "anaconda-cloud": {},
  "kernelspec": {
   "display_name": "Python [Root]",
   "language": "python",
   "name": "Python [Root]"
  },
  "language_info": {
   "codemirror_mode": {
    "name": "ipython",
    "version": 3
   },
   "file_extension": ".py",
   "mimetype": "text/x-python",
   "name": "python",
   "nbconvert_exporter": "python",
   "pygments_lexer": "ipython3",
   "version": "3.5.2"
  }
 },
 "nbformat": 4,
 "nbformat_minor": 0
}
