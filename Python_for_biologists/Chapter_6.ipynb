{
 "cells": [
  {
   "cell_type": "markdown",
   "metadata": {},
   "source": [
    "## Several species:"
   ]
  },
  {
   "cell_type": "code",
   "execution_count": 31,
   "metadata": {
    "collapsed": false
   },
   "outputs": [
    {
     "name": "stdout",
     "output_type": "stream",
     "text": [
      "kdy647\n",
      "jdg766\n",
      "kdy533\n"
     ]
    }
   ],
   "source": [
    "# open csv data file\n",
    "file = open('data.csv')\n",
    "csv = file.read()\n",
    "\n",
    "# change string into a list\n",
    "csv_list = csv.split('\\n')\n",
    "\n",
    "\n",
    "# select items of list that are query organisms\n",
    "wanted_organisms = []\n",
    "for item in csv_list:\n",
    "    if item.startswith('Drosophila melanogaster') or item.startswith('Drosophila simulans'):\n",
    "        wanted_organisms.append(item)\n",
    "\n",
    "# select each organims to be in its own variable (by indexing[]) and turn that string into a list (split)        \n",
    "organism_1 = wanted_organisms[0].split(',')\n",
    "organism_2 = wanted_organisms[1].split(',')\n",
    "organism_3 = wanted_organisms[2].split(',')\n",
    "\n",
    "# print out the gene name for each list\n",
    "print (organism_1[2])\n",
    "print (organism_2[2])\n",
    "print (organism_3[2])\n"
   ]
  },
  {
   "cell_type": "code",
   "execution_count": 50,
   "metadata": {
    "collapsed": false
   },
   "outputs": [
    {
     "name": "stdout",
     "output_type": "stream",
     "text": [
      "kdy647\n",
      "jdg766\n",
      "kdy533\n",
      "hdt739\n",
      "hdu045\n",
      "teg436\n"
     ]
    }
   ],
   "source": [
    "data = open('data.csv')\n",
    "\n",
    "# read data in line for line\n",
    "for line in data:\n",
    "    \n",
    "    # remove end of line characters before splitting\n",
    "    columns = line.rstrip('\\n') .split(',')\n",
    "    name = columns[0]\n",
    "    seq = columns[1]\n",
    "    gene_name = columns[2]\n",
    "    length = columns[3]\n",
    "    print(gene_name)"
   ]
  },
  {
   "cell_type": "code",
   "execution_count": 77,
   "metadata": {
    "collapsed": false
   },
   "outputs": [
    {
     "name": "stdout",
     "output_type": "stream",
     "text": [
      "kdy647\n",
      "jdg766\n",
      "kdy533\n"
     ]
    }
   ],
   "source": [
    "data = open('data.csv')\n",
    "\n",
    "# read data in line for line\n",
    "for line in data:\n",
    "    \n",
    "    # remove end of line characters before splitting (each line into own list containing items that are the species charactaristics)\n",
    "    columns = line.rstrip('\\n').split(',')\n",
    "    species = columns[0]\n",
    "    seq = columns[1]\n",
    "    name = columns[2]\n",
    "    expression = columns[3]\n",
    "    # make conditional that only selects the names of the species you want\n",
    "    if species == 'Drosophila melanogaster' or species == 'Drosophila simulans':\n",
    "        print (name)"
   ]
  },
  {
   "cell_type": "markdown",
   "metadata": {},
   "source": [
    "## Length range: "
   ]
  },
  {
   "cell_type": "code",
   "execution_count": 84,
   "metadata": {
    "collapsed": false
   },
   "outputs": [
    {
     "name": "stdout",
     "output_type": "stream",
     "text": [
      "kdy647\n",
      "teg436\n"
     ]
    }
   ],
   "source": [
    "data = open('data.csv')\n",
    "\n",
    "# read data in line for line\n",
    "for line in data:\n",
    "    \n",
    "    # remove end of line characters before splitting (each line into own list containing items that are the species charactaristics)\n",
    "    columns = line.rstrip('\\n').split(',')\n",
    "    species = columns[0]\n",
    "    seq = columns[1]\n",
    "    name = columns[2]\n",
    "    expression = columns[3]\n",
    "\n",
    "    # conditional statement about lenght of sequence \n",
    "    if len(seq)> 90 and len(seq) < 110:\n",
    "        print (name)\n",
    "        \n",
    "    #if  90 < len(seq) <110:\n",
    "      #  print (name)"
   ]
  },
  {
   "cell_type": "markdown",
   "metadata": {},
   "source": [
    "## AT content:"
   ]
  },
  {
   "cell_type": "code",
   "execution_count": 32,
   "metadata": {
    "collapsed": false
   },
   "outputs": [
    {
     "name": "stdout",
     "output_type": "stream",
     "text": [
      "teg436\n"
     ]
    }
   ],
   "source": [
    "data = open('data.csv')\n",
    "\n",
    "# read data in line for line\n",
    "for line in data:\n",
    "    \n",
    "    # remove end of line characters before splitting (each line into own list containing items that are the species charactaristics)\n",
    "    columns = line.rstrip('\\n').split(',')\n",
    "    species = columns[0]\n",
    "    seq = columns[1]\n",
    "    name = columns[2]\n",
    "    expression = columns[3]\n",
    "    \n",
    "    #calculate at percent\n",
    "    dna = seq.upper() # make all characters uppercase for uniformity\n",
    "    dna_length = len(dna)\n",
    "    a_count = dna.count('A')\n",
    "    t_count = dna.count('T')\n",
    "    at_percent = (a_count+t_count)/dna_length \n",
    "    \n",
    "    # lool which genes have at percent less than 0.5 \n",
    "    if at_percent < 0.5 and int(expression) > 200: # must covert \"expression\" to integer otherwise it complains\n",
    "        print (name)\n",
    "    \n",
    "\n",
    "        \n",
    "       "
   ]
  },
  {
   "cell_type": "markdown",
   "metadata": {},
   "source": [
    " alternative answer from book:"
   ]
  },
  {
   "cell_type": "code",
   "execution_count": 47,
   "metadata": {
    "collapsed": false
   },
   "outputs": [
    {
     "name": "stdout",
     "output_type": "stream",
     "text": [
      "teg436\n"
     ]
    }
   ],
   "source": [
    "# function from chapter 3 to calculate AT content\n",
    "def get_at_content(dna):\n",
    "    length = len(dna)\n",
    "    a_count = dna.upper().count('A')\n",
    "    t_count = dna.upper().count('T')\n",
    "    at_content = (a_count + t_count)/ length\n",
    "    return at_content\n",
    "\n",
    "data = open('data.csv')\n",
    "\n",
    "# read data in line for line\n",
    "for line in data:\n",
    "    \n",
    "    # remove end of line characters before splitting (each line into own list containing items that are the species charactaristics)\n",
    "    columns = line.rstrip('\\n').split(',')\n",
    "    species = columns[0]\n",
    "    seq = columns[1]\n",
    "    name = columns[2]\n",
    "    expression = int(columns[3])\n",
    "    if get_at_content(seq) < 0.5 and expression >200:\n",
    "        print (name)"
   ]
  },
  {
   "cell_type": "markdown",
   "metadata": {},
   "source": [
    "## Complex condition:"
   ]
  },
  {
   "cell_type": "code",
   "execution_count": 45,
   "metadata": {
    "collapsed": false
   },
   "outputs": [
    {
     "name": "stdout",
     "output_type": "stream",
     "text": [
      "kdy533\n",
      "hdt739\n",
      "hdu045\n"
     ]
    }
   ],
   "source": [
    "data = open('data.csv')\n",
    "\n",
    "# read data in line for line\n",
    "for line in data:\n",
    "    \n",
    "    # remove end of line characters before splitting (each line into own list containing items that are the species charactaristics)\n",
    "    columns = line.rstrip('\\n').split(',')\n",
    "    species = columns[0]\n",
    "    seq = columns[1]\n",
    "    name = columns[2]\n",
    "    expression = columns[3]\n",
    "    if species != 'Drosophila melanogaster' and name[0] == 'k' or name[0] == 'h':\n",
    "        print (name)\n",
    "        "
   ]
  },
  {
   "cell_type": "markdown",
   "metadata": {},
   "source": [
    "alternative answer from book:"
   ]
  },
  {
   "cell_type": "code",
   "execution_count": 49,
   "metadata": {
    "collapsed": false
   },
   "outputs": [
    {
     "name": "stdout",
     "output_type": "stream",
     "text": [
      "kdy533\n",
      "hdt739\n",
      "hdu045\n"
     ]
    }
   ],
   "source": [
    "data = open('data.csv')\n",
    "\n",
    "# read data in line for line\n",
    "for line in data:\n",
    "    \n",
    "    # remove end of line characters before splitting (each line into own list containing items that are the species charactaristics)\n",
    "    columns = line.rstrip('\\n').split(',')\n",
    "    species = columns[0]\n",
    "    seq = columns[1]\n",
    "    name = columns[2]\n",
    "    expression = columns[3]\n",
    "    \n",
    "    if (name.startswith('k') or name.startswith('h')) and species != 'Drosophila melanogaster':\n",
    "        print (name)"
   ]
  },
  {
   "cell_type": "markdown",
   "metadata": {},
   "source": [
    "## High low medium:"
   ]
  },
  {
   "cell_type": "code",
   "execution_count": 50,
   "metadata": {
    "collapsed": false
   },
   "outputs": [
    {
     "name": "stdout",
     "output_type": "stream",
     "text": [
      "kdy647 :AT content high\n",
      "jdg766 :AT content medium\n",
      "kdy533 :AT content medium\n",
      "hdt739 :AT content low\n",
      "hdu045 :AT content medium\n",
      "teg436 :AT content medium\n"
     ]
    }
   ],
   "source": [
    "# function from chapter 3 to calculate AT content\n",
    "def get_at_content(dna):\n",
    "    length = len(dna)\n",
    "    a_count = dna.upper().count('A')\n",
    "    t_count = dna.upper().count('T')\n",
    "    at_content = (a_count + t_count)/ length\n",
    "    return at_content\n",
    "\n",
    "data = open('data.csv')\n",
    "\n",
    "# read data in line for line\n",
    "for line in data:\n",
    "    \n",
    "    # remove end of line characters before splitting (each line into own list containing items that are the species charactaristics)\n",
    "    columns = line.rstrip('\\n').split(',')\n",
    "    species = columns[0]\n",
    "    seq = columns[1]\n",
    "    name = columns[2]\n",
    "    expression = int(columns[3])\n",
    "    \n",
    "    # the conditional\n",
    "    if get_at_content(seq) > 0.65:\n",
    "        print (name, \":AT content high\")\n",
    "    elif get_at_content(seq) < 0.45:\n",
    "        print (name, \":AT content low\")\n",
    "    else:\n",
    "        print (name, \":AT content medium\")"
   ]
  },
  {
   "cell_type": "code",
   "execution_count": null,
   "metadata": {
    "collapsed": true
   },
   "outputs": [],
   "source": []
  }
 ],
 "metadata": {
  "anaconda-cloud": {},
  "kernelspec": {
   "display_name": "Python [Root]",
   "language": "python",
   "name": "Python [Root]"
  },
  "language_info": {
   "codemirror_mode": {
    "name": "ipython",
    "version": 3
   },
   "file_extension": ".py",
   "mimetype": "text/x-python",
   "name": "python",
   "nbconvert_exporter": "python",
   "pygments_lexer": "ipython3",
   "version": "3.5.2"
  }
 },
 "nbformat": 4,
 "nbformat_minor": 0
}
